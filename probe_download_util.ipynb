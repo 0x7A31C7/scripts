{
 "cells": [
  {
   "cell_type": "code",
   "execution_count": 1,
   "metadata": {},
   "outputs": [],
   "source": [
    "import aria2p"
   ]
  },
  {
   "cell_type": "code",
   "execution_count": 2,
   "metadata": {},
   "outputs": [],
   "source": [
    "client = aria2p.Client(\n",
    "            host='http://localhost',\n",
    "            port=6800,\n",
    "            secret=''\n",
    "        )"
   ]
  },
  {
   "cell_type": "code",
   "execution_count": 3,
   "metadata": {},
   "outputs": [],
   "source": [
    "aria = aria2p.API(client)"
   ]
  },
  {
   "cell_type": "code",
   "execution_count": 4,
   "metadata": {},
   "outputs": [],
   "source": [
    "urls = ['http://us.mirrors.quenda.co/apache/hadoop/common/current/hadoop-3.1.2-site.tar.gz']"
   ]
  },
  {
   "cell_type": "markdown",
   "metadata": {},
   "source": [
    "## Set output directory"
   ]
  },
  {
   "cell_type": "code",
   "execution_count": 6,
   "metadata": {},
   "outputs": [],
   "source": [
    "!rm -r /home/god/Documents/aria_tests/"
   ]
  },
  {
   "cell_type": "code",
   "execution_count": 7,
   "metadata": {},
   "outputs": [],
   "source": [
    "options = {\n",
    "    'dir': '/home/god/Documents/aria_tests'\n",
    "}\n",
    "\n",
    "d = aria.add_uris(urls, options=options)"
   ]
  },
  {
   "cell_type": "markdown",
   "metadata": {},
   "source": [
    "aria2 will automatically create the directories if they don't exist."
   ]
  },
  {
   "cell_type": "code",
   "execution_count": 8,
   "metadata": {},
   "outputs": [
    {
     "data": {
      "text/plain": [
       "[<aria2p.downloads.Download at 0x7f76eef05dd8>]"
      ]
     },
     "execution_count": 8,
     "metadata": {},
     "output_type": "execute_result"
    }
   ],
   "source": [
    "aria.get_downloads()"
   ]
  },
  {
   "cell_type": "code",
   "execution_count": 9,
   "metadata": {},
   "outputs": [
    {
     "data": {
      "text/plain": [
       "True"
      ]
     },
     "execution_count": 9,
     "metadata": {},
     "output_type": "execute_result"
    }
   ],
   "source": [
    "d == aria.get_downloads()[0]"
   ]
  },
  {
   "cell_type": "code",
   "execution_count": 10,
   "metadata": {},
   "outputs": [
    {
     "data": {
      "text/plain": [
       "'87e5221be79f8747'"
      ]
     },
     "execution_count": 10,
     "metadata": {},
     "output_type": "execute_result"
    }
   ],
   "source": [
    "d.gid"
   ]
  },
  {
   "cell_type": "code",
   "execution_count": 11,
   "metadata": {},
   "outputs": [
    {
     "data": {
      "text/plain": [
       "True"
      ]
     },
     "execution_count": 11,
     "metadata": {},
     "output_type": "execute_result"
    }
   ],
   "source": [
    "d.gid == aria.get_downloads()[0].gid"
   ]
  },
  {
   "cell_type": "markdown",
   "metadata": {},
   "source": [
    "---"
   ]
  },
  {
   "cell_type": "markdown",
   "metadata": {},
   "source": [
    "## Set output file name"
   ]
  },
  {
   "cell_type": "code",
   "execution_count": 12,
   "metadata": {},
   "outputs": [],
   "source": [
    "options['out'] = 'myfile.tar.gz'\n",
    "\n",
    "d2 = aria.add_uris(urls, options=options)"
   ]
  },
  {
   "cell_type": "code",
   "execution_count": 13,
   "metadata": {},
   "outputs": [
    {
     "data": {
      "text/plain": [
       "[<aria2p.downloads.Download at 0x7f76eef36e48>,\n",
       " <aria2p.downloads.Download at 0x7f76eef36518>]"
      ]
     },
     "execution_count": 13,
     "metadata": {},
     "output_type": "execute_result"
    }
   ],
   "source": [
    "aria.get_downloads()"
   ]
  },
  {
   "cell_type": "code",
   "execution_count": 14,
   "metadata": {},
   "outputs": [
    {
     "data": {
      "text/plain": [
       "True"
      ]
     },
     "execution_count": 14,
     "metadata": {},
     "output_type": "execute_result"
    }
   ],
   "source": [
    "d == aria.get_downloads()[0]"
   ]
  },
  {
   "cell_type": "code",
   "execution_count": 15,
   "metadata": {
    "scrolled": true
   },
   "outputs": [
    {
     "data": {
      "text/plain": [
       "True"
      ]
     },
     "execution_count": 15,
     "metadata": {},
     "output_type": "execute_result"
    }
   ],
   "source": [
    "d.gid == aria.get_downloads()[0].gid"
   ]
  },
  {
   "cell_type": "code",
   "execution_count": 16,
   "metadata": {},
   "outputs": [
    {
     "data": {
      "text/plain": [
       "False"
      ]
     },
     "execution_count": 16,
     "metadata": {},
     "output_type": "execute_result"
    }
   ],
   "source": [
    "d2.gid == aria.get_downloads()[0].gid"
   ]
  },
  {
   "cell_type": "code",
   "execution_count": 17,
   "metadata": {},
   "outputs": [
    {
     "data": {
      "text/plain": [
       "True"
      ]
     },
     "execution_count": 17,
     "metadata": {},
     "output_type": "execute_result"
    }
   ],
   "source": [
    "d2 == aria.get_downloads()[1]"
   ]
  },
  {
   "cell_type": "code",
   "execution_count": 18,
   "metadata": {},
   "outputs": [
    {
     "data": {
      "text/plain": [
       "'4142d02ab714f1be'"
      ]
     },
     "execution_count": 18,
     "metadata": {},
     "output_type": "execute_result"
    }
   ],
   "source": [
    "d2.gid"
   ]
  },
  {
   "cell_type": "code",
   "execution_count": 19,
   "metadata": {},
   "outputs": [],
   "source": [
    "!rm -r /home/god/Documents/aria_tests"
   ]
  },
  {
   "cell_type": "markdown",
   "metadata": {},
   "source": [
    "~~New downloads are appended at the end.~~ (see below)"
   ]
  },
  {
   "cell_type": "markdown",
   "metadata": {},
   "source": [
    "---"
   ]
  },
  {
   "cell_type": "markdown",
   "metadata": {},
   "source": [
    "## Multipart download"
   ]
  },
  {
   "cell_type": "code",
   "execution_count": 27,
   "metadata": {},
   "outputs": [],
   "source": [
    "options = {\n",
    "    'dir': '/home/god/Documents/aria_tests',\n",
    "    'max-connection-per-server': '5'\n",
    "}\n",
    "\n",
    "d3 = aria.add_uris(urls, options=options)"
   ]
  },
  {
   "cell_type": "code",
   "execution_count": 21,
   "metadata": {},
   "outputs": [
    {
     "name": "stdout",
     "output_type": "stream",
     "text": [
      "e70a750ce2c4dfb1\n",
      "87e5221be79f8747\n",
      "4142d02ab714f1be\n"
     ]
    }
   ],
   "source": [
    "for i in aria.get_downloads():\n",
    "    print(i.gid)"
   ]
  },
  {
   "cell_type": "code",
   "execution_count": 25,
   "metadata": {},
   "outputs": [
    {
     "name": "stdout",
     "output_type": "stream",
     "text": [
      "87e5221be79f8747\n",
      "4142d02ab714f1be\n",
      "e70a750ce2c4dfb1\n"
     ]
    }
   ],
   "source": [
    "## After completion of download\n",
    "for i in aria.get_downloads():\n",
    "    print(i.gid)"
   ]
  },
  {
   "cell_type": "code",
   "execution_count": 29,
   "metadata": {},
   "outputs": [],
   "source": [
    "options = {\n",
    "    'dir': '/home/god/Documents/aria_tests',\n",
    "    'max-connection-per-server': '5'\n",
    "}\n",
    "\n",
    "d4 = aria.add_uris(['http://us.mirrors.quenda.co/apache/hadoop/common/current/hadoop-3.1.2.tar.gz'], options=options)"
   ]
  },
  {
   "cell_type": "code",
   "execution_count": null,
   "metadata": {},
   "outputs": [],
   "source": []
  },
  {
   "cell_type": "code",
   "execution_count": 32,
   "metadata": {},
   "outputs": [
    {
     "data": {
      "text/plain": [
       "{'allow-overwrite': 'false',\n",
       " 'allow-piece-length-change': 'false',\n",
       " 'always-resume': 'true',\n",
       " 'async-dns': 'true',\n",
       " 'auto-file-renaming': 'true',\n",
       " 'bt-enable-hook-after-hash-check': 'true',\n",
       " 'bt-enable-lpd': 'false',\n",
       " 'bt-force-encryption': 'false',\n",
       " 'bt-hash-check-seed': 'true',\n",
       " 'bt-load-saved-metadata': 'false',\n",
       " 'bt-max-peers': '55',\n",
       " 'bt-metadata-only': 'false',\n",
       " 'bt-min-crypto-level': 'plain',\n",
       " 'bt-remove-unselected-file': 'false',\n",
       " 'bt-request-peer-speed-limit': '51200',\n",
       " 'bt-require-crypto': 'false',\n",
       " 'bt-save-metadata': 'false',\n",
       " 'bt-seed-unverified': 'false',\n",
       " 'bt-stop-timeout': '0',\n",
       " 'bt-tracker-connect-timeout': '60',\n",
       " 'bt-tracker-interval': '0',\n",
       " 'bt-tracker-timeout': '60',\n",
       " 'check-integrity': 'false',\n",
       " 'conditional-get': 'false',\n",
       " 'connect-timeout': '60',\n",
       " 'content-disposition-default-utf8': 'false',\n",
       " 'continue': 'false',\n",
       " 'dir': '/home/god/Documents/aria_tests',\n",
       " 'dry-run': 'false',\n",
       " 'enable-http-keep-alive': 'true',\n",
       " 'enable-http-pipelining': 'false',\n",
       " 'enable-mmap': 'false',\n",
       " 'enable-peer-exchange': 'true',\n",
       " 'file-allocation': 'prealloc',\n",
       " 'follow-metalink': 'true',\n",
       " 'follow-torrent': 'true',\n",
       " 'force-save': 'false',\n",
       " 'ftp-pasv': 'true',\n",
       " 'ftp-reuse-connection': 'true',\n",
       " 'ftp-type': 'binary',\n",
       " 'hash-check-only': 'false',\n",
       " 'http-accept-gzip': 'false',\n",
       " 'http-auth-challenge': 'false',\n",
       " 'http-no-cache': 'false',\n",
       " 'lowest-speed-limit': '0',\n",
       " 'max-connection-per-server': '5',\n",
       " 'max-download-limit': '0',\n",
       " 'max-file-not-found': '0',\n",
       " 'max-mmap-limit': '9223372036854775807',\n",
       " 'max-resume-failure-tries': '0',\n",
       " 'max-tries': '5',\n",
       " 'max-upload-limit': '0',\n",
       " 'metalink-enable-unique-protocol': 'true',\n",
       " 'metalink-preferred-protocol': 'none',\n",
       " 'min-split-size': '20971520',\n",
       " 'no-file-allocation-limit': '5242880',\n",
       " 'no-netrc': 'false',\n",
       " 'parameterized-uri': 'false',\n",
       " 'pause-metadata': 'false',\n",
       " 'piece-length': '1048576',\n",
       " 'proxy-method': 'get',\n",
       " 'realtime-chunk-checksum': 'true',\n",
       " 'remote-time': 'false',\n",
       " 'remove-control-file': 'false',\n",
       " 'retry-wait': '0',\n",
       " 'reuse-uri': 'true',\n",
       " 'rpc-save-upload-metadata': 'true',\n",
       " 'save-not-found': 'true',\n",
       " 'seed-ratio': '1.0',\n",
       " 'split': '5',\n",
       " 'stream-piece-selector': 'default',\n",
       " 'timeout': '60',\n",
       " 'uri-selector': 'feedback',\n",
       " 'use-head': 'false',\n",
       " 'user-agent': 'aria2/1.34.0'}"
      ]
     },
     "execution_count": 32,
     "metadata": {},
     "output_type": "execute_result"
    }
   ],
   "source": [
    "client.get_option(d4.gid)"
   ]
  },
  {
   "cell_type": "code",
   "execution_count": null,
   "metadata": {},
   "outputs": [],
   "source": []
  },
  {
   "cell_type": "code",
   "execution_count": null,
   "metadata": {},
   "outputs": [],
   "source": []
  }
 ],
 "metadata": {
  "kernelspec": {
   "display_name": "Python 3",
   "language": "python",
   "name": "python3"
  },
  "language_info": {
   "codemirror_mode": {
    "name": "ipython",
    "version": 3
   },
   "file_extension": ".py",
   "mimetype": "text/x-python",
   "name": "python",
   "nbconvert_exporter": "python",
   "pygments_lexer": "ipython3",
   "version": "3.7.3"
  }
 },
 "nbformat": 4,
 "nbformat_minor": 2
}
